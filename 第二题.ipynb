{
 "cells": [
  {
   "cell_type": "code",
   "execution_count": 1,
   "metadata": {},
   "outputs": [
    {
     "data": {
      "text/plain": [
       "{'name': 'Variopartner SICAV',\n",
       " 'lei': '529900LPCSV88817QH61',\n",
       " 'sub_fund': [{'title': '1. TARENO GLOBAL WATER SOLUTIONS FUND',\n",
       "   'isin': ['LU2001709034', 'LU2057889995', 'LU2001709547']},\n",
       "  {'title': '2. TARENO FIXED INCOME FUND', 'isin': ['LU1299722972']},\n",
       "  {'title': '3. TARENO GLOBAL EQUITY FUND',\n",
       "   'isin': ['LU1299721909', 'LU1299722113', 'LU1299722030']},\n",
       "  {'title': '4. MIV GLOBAL MEDTECH FUND',\n",
       "   'isin': ['LU0329630999', 'LU0329630130']}]}"
      ]
     },
     "execution_count": 1,
     "metadata": {},
     "output_type": "execute_result"
    }
   ],
   "source": [
    "long_text = \"\"\"\n",
    "Variopartner SICAV\n",
    "529900LPCSV88817QH61\n",
    "1. TARENO GLOBAL WATER SOLUTIONS FUND\n",
    "LU2001709034\n",
    "LU2057889995\n",
    "LU2001709547\n",
    "2. TARENO FIXED INCOME FUND\n",
    "LU1299722972\n",
    "3. TARENO GLOBAL EQUITY FUND\n",
    "LU1299721909\n",
    "LU1299722113\n",
    "LU1299722030\n",
    "4. MIV GLOBAL MEDTECH FUND\n",
    "LU0329630999\n",
    "LU0329630130\n",
    "\"\"\"\n",
    "#首先进行切片操作\n",
    "long_text = long_text.split('\\n')\n",
    "#建立最终的空字典\n",
    "final = {}\n",
    "#sub_fund是一个列别，因此先创建一个空列表\n",
    "sub_fund = []\n",
    "#sub_fund列表内由多个字典构成，因此创建一个空字典来存储，即过度字典\n",
    "sub_fund_excessive = {}\n",
    "#isin是一个列表，创建一个空列表来存储，即为过度列表\n",
    "isin_excessive = [];\n",
    "#字典名[关键词] = 值=》因此可以看出name为第1个值，lei为第2个值，先将这两组键值对复制\n",
    "name = long_text[1]#索引操作\n",
    "final[\"name\"] = name#赋值操作\n",
    "lei  = long_text[2]#索引操作\n",
    "final[\"lei\"] = lei#赋值操作\n",
    " \n",
    "# 循环剩下字符串进行键值对赋值\n",
    "'''思路：第一个循环从第3个元素的位置到倒数第二个元素的位置（因为最后一个为空值）\n",
    "第一个判断：如果存在'.'那么就是title，否则就是isin，按顺序添加到isin列表中；\n",
    "第二个判断：如果isin不是空集合，直接将上部分的isin添加到该title下的键值对中，并将过度字典和列表进行初始化操作'''\n",
    "for i in range(3,len(long_text)-1):\n",
    "    if '.' in long_text[i]: # 判断是否为title         \n",
    "        if (len(isin_excessive) != 0):#判断isin是非为空\n",
    "            sub_fund_excessive[\"isin\"] = isin_excessive#设置isin为上一个添加的list\n",
    "            sub_fund.append(sub_fund_excessive) # 元素添加进进sub_fund列表\n",
    "            sub_fund_excessive = {}#初始化\n",
    "            isin_excessive = []#初始化\n",
    "        sub_fund_excessive[\"title\"] = long_text[i]#title赋值\n",
    "    else: # 是isin行\n",
    "        isin_excessive.append(long_text[i])\n",
    "\n",
    "'''由于每一次监测'.'都是添加上一次的isin集合，因此最后一个集合没有添加到，因此，在多余循环一次'''\n",
    "if (len(isin_excessive) != 0):\n",
    "    sub_fund_excessive[\"isin\"] = isin_excessive#设置isin为上一个添加的list\n",
    "    sub_fund.append(sub_fund_excessive)# 元素添加进进sub_fund列表\n",
    " \n",
    "#subfund 搜寻完毕，以键值对的形式添加得到final集合中，即为最终结果\n",
    "final[\"sub_fund\"] = sub_fund\n",
    "final"
   ]
  },
  {
   "cell_type": "code",
   "execution_count": null,
   "metadata": {},
   "outputs": [],
   "source": []
  }
 ],
 "metadata": {
  "kernelspec": {
   "display_name": "Python 3",
   "language": "python",
   "name": "python3"
  },
  "language_info": {
   "codemirror_mode": {
    "name": "ipython",
    "version": 3
   },
   "file_extension": ".py",
   "mimetype": "text/x-python",
   "name": "python",
   "nbconvert_exporter": "python",
   "pygments_lexer": "ipython3",
   "version": "3.7.3"
  }
 },
 "nbformat": 4,
 "nbformat_minor": 2
}
